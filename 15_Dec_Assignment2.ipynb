{
 "cells": [
  {
   "cell_type": "markdown",
   "id": "3f28d1b3",
   "metadata": {},
   "source": [
    "## 15th Dec"
   ]
  },
  {
   "cell_type": "markdown",
   "id": "7b6fb074",
   "metadata": {},
   "source": [
    "### WAP to accept an integer from the user and check whether it is an even or odd "
   ]
  },
  {
   "cell_type": "code",
   "execution_count": 4,
   "id": "f4afdf7d",
   "metadata": {},
   "outputs": [
    {
     "name": "stdout",
     "output_type": "stream",
     "text": [
      "Enter the number --> 193454565677\n",
      "The number 193454565677 is Odd\n"
     ]
    }
   ],
   "source": [
    "User_input = int(input(\"Enter the number --> \"))\n",
    "if User_input%2 == 0:\n",
    "    print(\"The number {} is Even\".format(User_input))\n",
    "else:\n",
    "    print(\"The number {} is Odd\".format(User_input))"
   ]
  },
  {
   "cell_type": "markdown",
   "id": "f7c55f00",
   "metadata": {},
   "source": [
    "### WAP to accept a character from the user and check whether it is a capital letter or small letter . Assume user will input only alphabets"
   ]
  },
  {
   "cell_type": "code",
   "execution_count": 15,
   "id": "1acba5f4",
   "metadata": {},
   "outputs": [
    {
     "name": "stdout",
     "output_type": "stream",
     "text": [
      "Enter the Character --> s\n",
      "Letter is Small\n"
     ]
    }
   ],
   "source": [
    "User_input = input(\"Enter the Character --> \")\n",
    "if User_input.isupper():\n",
    "    print(\"Letter is Capital\")\n",
    "elif User_input.islower():\n",
    "    print(\"Letter is Small\")\n",
    "else:\n",
    "    print(\"Enter the character...\")"
   ]
  },
  {
   "cell_type": "markdown",
   "id": "5cbe3353",
   "metadata": {},
   "source": [
    "### WAP to accept a character from user and check whether it is a capital letter or small letter or a digit  or special character"
   ]
  },
  {
   "cell_type": "code",
   "execution_count": 31,
   "id": "d6e5c223",
   "metadata": {},
   "outputs": [
    {
     "name": "stdout",
     "output_type": "stream",
     "text": [
      "Enter the Character --> (&^*^&#%&%&^#%AS\n",
      "Letter is Special Character\n"
     ]
    }
   ],
   "source": [
    "User_input = input(\"Enter the Character --> \")\n",
    "if User_input[0].isupper():\n",
    "    print(\"Letter is Capital\")\n",
    "elif User_input[0].islower():\n",
    "    print(\"Letter is Small\")\n",
    "elif User_input[0].isnumeric(): \n",
    "    print(\"Letter is a Number\")\n",
    "elif User_input[0] in '[@_!#$%^&*()<>?/\\|}{~:]':\n",
    "    print(\"Letter is Special Character\")\n",
    "else:\n",
    "    print(\"Please enter a character ...\")"
   ]
  },
  {
   "cell_type": "markdown",
   "id": "3a661c57",
   "metadata": {},
   "source": [
    "### WAP to accept three integers from the user and without using any logical operator and cascading of relational operators , find out the greatest number among them"
   ]
  },
  {
   "cell_type": "code",
   "execution_count": 35,
   "id": "da4bf66e",
   "metadata": {},
   "outputs": [
    {
     "name": "stdout",
     "output_type": "stream",
     "text": [
      "Enter the first number --> 56\n",
      "Enter the second number --> 67\n",
      "Enter the third number --> 78\n",
      "The greatest number among 56 , 67 and 78 is --> 78\n"
     ]
    }
   ],
   "source": [
    "in1 = int(input(\"Enter the first number --> \"))\n",
    "in2 = int(input(\"Enter the second number --> \"))\n",
    "in3 = int(input(\"Enter the third number --> \"))\n",
    "if in1>in2:\n",
    "    if in1>in3:\n",
    "        print(\"The greatest number among {0} , {1} and {2} is --> {0}\".format(in1,in2,in3))\n",
    "    else:\n",
    "        if in3>in2:\n",
    "            print(\"The greatest number among {0} , {1} and {2} is --> {2}\".format(in1,in2,in3))\n",
    "        else:\n",
    "            print(\"The greatest number among {0} , {1} and {2} is --> {1}\".format(in1,in2,in3))\n",
    "else:\n",
    "    if in2>in3:\n",
    "        print(\"The greatest number among {0} , {1} and {2} is --> {1}\".format(in1,in2,in3))\n",
    "    else:\n",
    "        print(\"The greatest number among {0} , {1} and {2} is --> {2}\".format(in1,in2,in3))"
   ]
  },
  {
   "cell_type": "markdown",
   "id": "be3825ae",
   "metadata": {},
   "source": [
    "### WAP to accept a year from the user and check whether it is a leap year or not"
   ]
  },
  {
   "cell_type": "code",
   "execution_count": 39,
   "id": "8da09494",
   "metadata": {},
   "outputs": [
    {
     "name": "stdout",
     "output_type": "stream",
     "text": [
      "Enter the Year --> 2000\n",
      "The Year 2000 is LEAP year ...\n"
     ]
    }
   ],
   "source": [
    "in_year = int(input(\"Enter the Year --> \"))\n",
    "if ((in_year%4 == 0) and (in_year%100 != 0)) or (in_year%400 == 0):\n",
    "    print(\"The Year {0} is LEAP year ...\".format(in_year))\n",
    "else:\n",
    "    print(\"The Year {0} is NOT A LEAP year ...\".format(in_year))"
   ]
  },
  {
   "cell_type": "markdown",
   "id": "aaca842e",
   "metadata": {},
   "source": [
    "### Develop a number guessing game\n",
    "#### Generate random integer secretly\n",
    "#### Ask user to guess the number\n",
    "#### If guess is correct , program prints \"Congratulations ! You guessed it right\"\n",
    "#### If guess is larger then secret number , program prints \"Number too large\" and if it is small it will print \"Number too small\"\n",
    "#### This should continue until user guesses correct one or quits by entering 0 or negative"
   ]
  },
  {
   "cell_type": "code",
   "execution_count": 51,
   "id": "050f091f",
   "metadata": {},
   "outputs": [
    {
     "name": "stdout",
     "output_type": "stream",
     "text": [
      "3\n",
      "\n",
      "-- Game Starts --\n",
      "Secret number is generated ... \n",
      "Please Guess a number 5\n",
      "\n",
      "        *** Oops ***\n",
      "        Number is too large ... Try to guess again\n",
      "Please Guess a number 1\n",
      "\n",
      "        *** Oohh ***\n",
      "        Number is too Small ... Give a try again\n",
      "Please Guess a number 3\n",
      "*** Hurray ***\n",
      "        Congratulations !!! You Guessed it right ...\n",
      "!!! Thanks for Playing !!!\n"
     ]
    }
   ],
   "source": [
    "import random\n",
    "secret_num = random.randint(1,10)\n",
    "print(secret_num)\n",
    "print(\"\"\"\n",
    "-- Game Starts --\n",
    "Secret number is generated ... \"\"\")\n",
    "\n",
    "counter = 0\n",
    "while counter == 0:\n",
    "    guess_num = int(input(\"Please Guess a number \"))\n",
    "    if guess_num <= 0:\n",
    "        print(\"\"\"\n",
    "        *** The Game was interrupted by user ***\n",
    "        Closing the game ...\"\"\")\n",
    "        counter += 1\n",
    "    elif guess_num == secret_num:\n",
    "        print(\"\"\"*** Hurray ***\n",
    "        Congratulations !!! You Guessed it right ...\"\"\")\n",
    "        counter += 1\n",
    "    elif guess_num > secret_num:\n",
    "        print(\"\"\"\n",
    "        *** Oops ***\n",
    "        Number is too large ... Try to guess again\"\"\")\n",
    "    elif guess_num < secret_num:\n",
    "        print(\"\"\"\n",
    "        *** Oohh ***\n",
    "        Number is too Small ... Give a try again\"\"\")\n",
    "print(\"!!! Thanks for Playing !!!\")"
   ]
  },
  {
   "cell_type": "markdown",
   "id": "7315083b",
   "metadata": {},
   "source": [
    "### WAP to accept a string from the user and display it vertically and do not display the vowels in it"
   ]
  },
  {
   "cell_type": "code",
   "execution_count": 70,
   "id": "ce973dc8",
   "metadata": {},
   "outputs": [
    {
     "name": "stdout",
     "output_type": "stream",
     "text": [
      "Enter the String --> Komal Sherkhane\n",
      "K\n",
      "m\n",
      "l\n",
      " \n",
      "S\n",
      "h\n",
      "r\n",
      "k\n",
      "h\n",
      "n\n",
      "End of the string\n"
     ]
    }
   ],
   "source": [
    "User_input = input(\"Enter the String --> \")\n",
    "i = 0\n",
    "while i <= len(User_input):\n",
    "    try:\n",
    "        if User_input[i] not in 'aeiou':\n",
    "            print(User_input[i])\n",
    "    except:\n",
    "        print(\"End of the string\")\n",
    "    i += 1"
   ]
  },
  {
   "cell_type": "code",
   "execution_count": 74,
   "id": "bbf05c75",
   "metadata": {},
   "outputs": [
    {
     "name": "stdout",
     "output_type": "stream",
     "text": [
      "Enter the String --> Komal Sherkhanekkksew\n",
      "K\n",
      "m\n",
      "l\n",
      " \n",
      "S\n",
      "h\n",
      "r\n",
      "k\n",
      "h\n",
      "n\n",
      "k\n",
      "k\n",
      "k\n",
      "s\n",
      "w\n"
     ]
    }
   ],
   "source": [
    "User_input = input(\"Enter the String --> \")\n",
    "i = 0\n",
    "while i < len(User_input):\n",
    "    if User_input[i] not in 'aeiou':\n",
    "        print(User_input[i])\n",
    "    i += 1"
   ]
  },
  {
   "cell_type": "markdown",
   "id": "ac04a1a0",
   "metadata": {},
   "source": [
    "### WAP accept continuously integers from user till user enters 0 and print sum of all nums and ignore the negative values"
   ]
  },
  {
   "cell_type": "code",
   "execution_count": 59,
   "id": "15524eb9",
   "metadata": {},
   "outputs": [
    {
     "name": "stdout",
     "output_type": "stream",
     "text": [
      "Enter a number --> 1\n",
      "Enter a number --> 2\n",
      "Enter a number --> 3\n",
      "Enter a number --> 4\n",
      "Enter a number --> 5\n",
      "Enter a number --> 6\n",
      "Enter a number --> 7\n",
      "Enter a number --> 8\n",
      "Enter a number --> 9\n",
      "Enter a number --> -3\n",
      "Enter a number --> -1\n",
      "Enter a number --> -2\n",
      "Enter a number --> 0\n",
      "\n",
      "        Exiting from the code ... \n",
      "        Printing the sum of previously entered numbers ...\n",
      "The sum of entered numbers is -->  45\n"
     ]
    }
   ],
   "source": [
    "counter = 0\n",
    "sum_all = 0\n",
    "while counter == 0:\n",
    "    in_num = int(input(\"Enter a number --> \"))\n",
    "    if in_num == 0:\n",
    "        print(\"\"\"\n",
    "        Exiting from the code ... \n",
    "        Printing the sum of previously entered numbers ...\"\"\")\n",
    "        counter += 1\n",
    "    elif in_num < 0:\n",
    "        in_num = 0\n",
    "        pass\n",
    "    else:\n",
    "        sum_all = sum_all + in_num\n",
    "print(\"The sum of entered numbers is --> \", sum_all)"
   ]
  },
  {
   "cell_type": "markdown",
   "id": "4490fd0c",
   "metadata": {},
   "source": [
    "### WAP using for loop to accept a string from the user and display it vertically and do not display the vowels in it"
   ]
  },
  {
   "cell_type": "code",
   "execution_count": 66,
   "id": "f1c1396a",
   "metadata": {},
   "outputs": [
    {
     "name": "stdout",
     "output_type": "stream",
     "text": [
      "Enter the String --> Komal Sherkhane\n",
      "K\n",
      "m\n",
      "l\n",
      " \n",
      "S\n",
      "h\n",
      "r\n",
      "k\n",
      "h\n",
      "n\n"
     ]
    }
   ],
   "source": [
    "User_input = input(\"Enter the String --> \")\n",
    "emty_li = []\n",
    "for i in User_input:\n",
    "    if i not in 'aeiou':\n",
    "        print(i)"
   ]
  },
  {
   "cell_type": "markdown",
   "id": "4eb6e6ee",
   "metadata": {},
   "source": [
    "### WAP to accept integer from user and display the sum of all numbers from 1 to that number"
   ]
  },
  {
   "cell_type": "code",
   "execution_count": 16,
   "id": "35158b4e",
   "metadata": {},
   "outputs": [
    {
     "name": "stdout",
     "output_type": "stream",
     "text": [
      "Enter a number --> 10\n",
      "The sum from 1 to entered number 10 is --> 55\n"
     ]
    }
   ],
   "source": [
    "in_num = int(input(\"Enter a number --> \"))\n",
    "item = 0\n",
    "in_sum = 0\n",
    "while item in range(in_num+1):\n",
    "    in_sum = in_sum + item\n",
    "    item += 1\n",
    "print(\"The sum from 1 to entered number {} is --> {}\".format(in_num,in_sum))"
   ]
  },
  {
   "cell_type": "markdown",
   "id": "bf2faa7c",
   "metadata": {},
   "source": [
    "### WAP to accept an integer from user and calculate factorial"
   ]
  },
  {
   "cell_type": "code",
   "execution_count": 24,
   "id": "6bae25f8",
   "metadata": {},
   "outputs": [
    {
     "name": "stdout",
     "output_type": "stream",
     "text": [
      "Enter a number --> 10\n",
      "The factorial of entered number 10 is --> 3628800\n"
     ]
    }
   ],
   "source": [
    "in_num = int(input(\"Enter a number --> \"))\n",
    "item = 1\n",
    "fact = 1\n",
    "while item in range(in_num+1):\n",
    "    fact = fact * item \n",
    "    item += 1\n",
    "print(\"The factorial of entered number {} is --> {}\".format(in_num,fact))"
   ]
  },
  {
   "cell_type": "markdown",
   "id": "74a66b8b",
   "metadata": {},
   "source": [
    "### Write a program to print the pattern"
   ]
  },
  {
   "cell_type": "code",
   "execution_count": 80,
   "id": "b6e0665c",
   "metadata": {},
   "outputs": [
    {
     "name": "stdout",
     "output_type": "stream",
     "text": [
      "\n",
      "***\n",
      "***\n",
      "***\n",
      "***"
     ]
    }
   ],
   "source": [
    "num = 4\n",
    "for i in range(num):                    #Handle Row\n",
    "    print(\"\")                         #Go to next line\n",
    "    for j in range(num-1):                #Handle column\n",
    "        print(\"*\",end=\"\")\n"
   ]
  },
  {
   "cell_type": "code",
   "execution_count": 81,
   "id": "0d918c23",
   "metadata": {},
   "outputs": [
    {
     "name": "stdout",
     "output_type": "stream",
     "text": [
      "\n",
      "*\n",
      "**\n",
      "***\n",
      "****"
     ]
    }
   ],
   "source": [
    "num = 5\n",
    "for i in range(1,num):                    # Handle Row\n",
    "    print(\"\")                         # Go to next line\n",
    "    for j in range(i):                # Handle column\n",
    "        print(\"*\",end=\"\")"
   ]
  },
  {
   "cell_type": "code",
   "execution_count": 79,
   "id": "8bab4126",
   "metadata": {},
   "outputs": [
    {
     "name": "stdout",
     "output_type": "stream",
     "text": [
      "\n",
      "*****\n",
      "****\n",
      "***\n",
      "**\n",
      "*"
     ]
    }
   ],
   "source": [
    "num = 5\n",
    "for i in range(5,0,-1):                    # Handle Row\n",
    "    print(\"\")                         # Go to next line\n",
    "    for j in range(1,i+1):                # Handle column\n",
    "        print(\"*\",end=\"\")\n",
    "    i=i-1"
   ]
  },
  {
   "cell_type": "markdown",
   "id": "4218211c",
   "metadata": {},
   "source": [
    "### WAP to accept an integer from the user and display the numbers from 1 to that number repeat until user enters 0"
   ]
  },
  {
   "cell_type": "code",
   "execution_count": 86,
   "id": "4bd2e280",
   "metadata": {},
   "outputs": [
    {
     "name": "stdout",
     "output_type": "stream",
     "text": [
      "Enter a number --> 5\n",
      "1 2 3 4 5 \n",
      "Enter a number --> 7\n",
      "1 2 3 4 5 6 7 \n",
      "Enter a number --> 8\n",
      "1 2 3 4 5 6 7 8 \n",
      "Enter a number --> 9\n",
      "1 2 3 4 5 6 7 8 9 \n",
      "Enter a number --> 10\n",
      "1 2 3 4 5 6 7 8 9 10 \n",
      "Enter a number --> 0\n",
      "Exiting from the code...\n"
     ]
    }
   ],
   "source": [
    "exit = 1\n",
    "while exit != 0:\n",
    "    in_num = int(input(\"Enter a number --> \"))\n",
    "    if in_num != 0:\n",
    "        for i in range(1,in_num+1):\n",
    "            print(i,end=\" \")\n",
    "        print(\"\")\n",
    "    else:\n",
    "        exit = 0\n",
    "        print(\"Exiting from the code...\")\n",
    "        "
   ]
  },
  {
   "cell_type": "code",
   "execution_count": null,
   "id": "b49d9184",
   "metadata": {},
   "outputs": [],
   "source": []
  }
 ],
 "metadata": {
  "kernelspec": {
   "display_name": "Python 3 (ipykernel)",
   "language": "python",
   "name": "python3"
  },
  "language_info": {
   "codemirror_mode": {
    "name": "ipython",
    "version": 3
   },
   "file_extension": ".py",
   "mimetype": "text/x-python",
   "name": "python",
   "nbconvert_exporter": "python",
   "pygments_lexer": "ipython3",
   "version": "3.9.12"
  }
 },
 "nbformat": 4,
 "nbformat_minor": 5
}
