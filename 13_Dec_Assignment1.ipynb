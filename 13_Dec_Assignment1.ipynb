{
 "cells": [
  {
   "cell_type": "markdown",
   "id": "b3611229",
   "metadata": {},
   "source": [
    "# 13 Dec\n"
   ]
  },
  {
   "cell_type": "markdown",
   "id": "7e3e2ff4",
   "metadata": {},
   "source": [
    "### WAP to accept two numbers from the user and display their sum"
   ]
  },
  {
   "cell_type": "code",
   "execution_count": 1,
   "id": "58dbd4a1",
   "metadata": {},
   "outputs": [
    {
     "name": "stdout",
     "output_type": "stream",
     "text": [
      "Enter the first number --> 30\n",
      "Enter the second number --> 34\n",
      "The addition of two numbers is  64\n"
     ]
    }
   ],
   "source": [
    "num1 = int(input(\"Enter the first number --> \"))\n",
    "num2 = int(input(\"Enter the second number --> \"))\n",
    "print(\"The addition of two numbers is \", (num1+num2))"
   ]
  },
  {
   "cell_type": "markdown",
   "id": "f3f9f913",
   "metadata": {},
   "source": [
    "### WAP to accept radius of circle and calculate aread and circumference"
   ]
  },
  {
   "cell_type": "code",
   "execution_count": 17,
   "id": "a944a2a1",
   "metadata": {},
   "outputs": [
    {
     "name": "stdout",
     "output_type": "stream",
     "text": [
      "Enter the radius of the circle --> 4\n",
      "Area if circle is  50.26548245743669\n",
      "Circumference of circle is  25.132741228718345\n"
     ]
    }
   ],
   "source": [
    "import math\n",
    "radii = int(input(\"Enter the radius of the circle --> \"))\n",
    "pi_value = math.pi\n",
    "print(\"Area if circle is \", (pi_value*(radii**2)))\n",
    "print(\"Circumference of circle is \", (2*pi_value*radii))"
   ]
  },
  {
   "cell_type": "code",
   "execution_count": 18,
   "id": "65f596e2",
   "metadata": {},
   "outputs": [
    {
     "name": "stdout",
     "output_type": "stream",
     "text": [
      "Enter the radius of the circle --> 4\n",
      "Area if circle is  50.24\n",
      "Circumference of circle is  25.12\n"
     ]
    }
   ],
   "source": [
    "radii = int(input(\"Enter the radius of the circle --> \"))\n",
    "pi_value = round(math.pi , 2)\n",
    "print(\"Area if circle is \", (pi_value*(radii**2)))\n",
    "print(\"Circumference of circle is \", (2*pi_value*radii))"
   ]
  },
  {
   "cell_type": "markdown",
   "id": "0bc2877d",
   "metadata": {},
   "source": [
    "### WAP to accept roll number, grade and percentage  as input from user and display it back"
   ]
  },
  {
   "cell_type": "code",
   "execution_count": 22,
   "id": "e4452205",
   "metadata": {},
   "outputs": [
    {
     "name": "stdout",
     "output_type": "stream",
     "text": [
      "Enter the Roll Number --> 12\n",
      "Enter the Grade --> A+\n",
      "Enter the Percentage --> 90\n",
      "The details mentioned are : \n",
      "Roll no = 12 \n",
      "Grade = A+\n",
      "Percentage = 90 %\n",
      "\n"
     ]
    }
   ],
   "source": [
    "Roll_no = int(input(\"Enter the Roll Number --> \"))\n",
    "Grade = input(\"Enter the Grade --> \")\n",
    "Percentage = int(input(\"Enter the Percentage --> \"))\n",
    "print(\"\"\"The details mentioned are : \n",
    "Roll no = {0} \n",
    "Grade = {1}\n",
    "Percentage = {2} %\n",
    "\"\"\".format(Roll_no,Grade,Percentage))"
   ]
  },
  {
   "cell_type": "markdown",
   "id": "b38d599e",
   "metadata": {},
   "source": [
    "### WAP that ask user to enter his/her name and age . Print out a message displaying user's name along with the year in which they will turn 100 years old"
   ]
  },
  {
   "cell_type": "code",
   "execution_count": 35,
   "id": "a42933e6",
   "metadata": {},
   "outputs": [
    {
     "name": "stdout",
     "output_type": "stream",
     "text": [
      "Enter your name --> Don\n",
      "Enter your age --> 30\n",
      "Hello Don ... You will turn into 100 years old in year 2092\n"
     ]
    }
   ],
   "source": [
    "import datetime\n",
    "User_name = input(\"Enter your name --> \")\n",
    "User_age = int(input(\"Enter your age --> \"))\n",
    "more_yrs_req = 100 - User_age\n",
    "currentDate = datetime.date.today()\n",
    "age_calculated = currentDate.year + more_yrs_req\n",
    "print(\"Hello {0} ... You will turn into 100 years old in year {1}\".format(User_name,age_calculated))"
   ]
  },
  {
   "cell_type": "markdown",
   "id": "1f4d631c",
   "metadata": {},
   "source": [
    "### WAP that ask user to input 2 integers and add them. Accept both in single line only"
   ]
  },
  {
   "cell_type": "code",
   "execution_count": 44,
   "id": "b673c00f",
   "metadata": {},
   "outputs": [
    {
     "name": "stdout",
     "output_type": "stream",
     "text": [
      "Enter two numbers separated by space --> 35 67\n",
      "Addition of entered number 35 and 67 is 102\n"
     ]
    }
   ],
   "source": [
    "User_input = input(\"Enter two numbers separated by space --> \")\n",
    "li_numbers = User_input.split(\" \")\n",
    "if len(li_numbers) == 2:\n",
    "    num1 = int(li_numbers[0])\n",
    "    num2 = int(li_numbers[1])\n",
    "    print(\"Addition of entered number {0} and {1} is {2}\".format(num1,num2,num1+num2))\n",
    "else:\n",
    "    print(\"Kindly enter valid two numbers separated by space\")"
   ]
  },
  {
   "cell_type": "markdown",
   "id": "73bdb50d",
   "metadata": {},
   "source": [
    "### WAP that accepts user's first and last name and print them in reverse order with space between them"
   ]
  },
  {
   "cell_type": "code",
   "execution_count": 52,
   "id": "b4eaa7fa",
   "metadata": {},
   "outputs": [
    {
     "name": "stdout",
     "output_type": "stream",
     "text": [
      "Enter First name --> Komal\n",
      "Enter Last name --> Sherkhane\n",
      "The reversed order for entered First name Komal and Last name Sherkhane is lamoK enahkrehS\n"
     ]
    }
   ],
   "source": [
    "F_nm = input(\"Enter First name --> \")\n",
    "L_nm = input(\"Enter Last name --> \")\n",
    "print(\"The reversed order for entered First name {0} and Last name {1} is {2} {3}\".format(F_nm,L_nm,F_nm[::-1],L_nm[::-1]))"
   ]
  },
  {
   "cell_type": "code",
   "execution_count": null,
   "id": "afaf9fff",
   "metadata": {},
   "outputs": [],
   "source": []
  },
  {
   "cell_type": "code",
   "execution_count": null,
   "id": "c43c270b",
   "metadata": {},
   "outputs": [],
   "source": []
  }
 ],
 "metadata": {
  "kernelspec": {
   "display_name": "Python 3 (ipykernel)",
   "language": "python",
   "name": "python3"
  },
  "language_info": {
   "codemirror_mode": {
    "name": "ipython",
    "version": 3
   },
   "file_extension": ".py",
   "mimetype": "text/x-python",
   "name": "python",
   "nbconvert_exporter": "python",
   "pygments_lexer": "ipython3",
   "version": "3.9.12"
  }
 },
 "nbformat": 4,
 "nbformat_minor": 5
}
